{
 "cells": [
  {
   "cell_type": "code",
   "execution_count": 95,
   "id": "8b6963da",
   "metadata": {},
   "outputs": [],
   "source": [
    "import pandas as pd\n",
    "import numpy as np\n",
    "import matplotlib.pyplot as plt\n",
    "import seaborn as sns"
   ]
  },
  {
   "cell_type": "code",
   "execution_count": 96,
   "id": "1e7d5682",
   "metadata": {},
   "outputs": [],
   "source": [
    "from sklearn.model_selection import train_test_split"
   ]
  },
  {
   "cell_type": "code",
   "execution_count": 97,
   "id": "72dbf117",
   "metadata": {},
   "outputs": [],
   "source": [
    "from sklearn.ensemble import RandomForestRegressor\n",
    "from sklearn import metrics"
   ]
  },
  {
   "cell_type": "code",
   "execution_count": 98,
   "id": "54512d15",
   "metadata": {},
   "outputs": [],
   "source": [
    "gold_data = pd.read_csv('gld_price_data.csv')"
   ]
  },
  {
   "cell_type": "code",
   "execution_count": 99,
   "id": "4f2e2b19",
   "metadata": {},
   "outputs": [
    {
     "data": {
      "text/html": [
       "<div>\n",
       "<style scoped>\n",
       "    .dataframe tbody tr th:only-of-type {\n",
       "        vertical-align: middle;\n",
       "    }\n",
       "\n",
       "    .dataframe tbody tr th {\n",
       "        vertical-align: top;\n",
       "    }\n",
       "\n",
       "    .dataframe thead th {\n",
       "        text-align: right;\n",
       "    }\n",
       "</style>\n",
       "<table border=\"1\" class=\"dataframe\">\n",
       "  <thead>\n",
       "    <tr style=\"text-align: right;\">\n",
       "      <th></th>\n",
       "      <th>Date</th>\n",
       "      <th>SPX</th>\n",
       "      <th>GLD</th>\n",
       "      <th>USO</th>\n",
       "      <th>SLV</th>\n",
       "      <th>EUR/USD</th>\n",
       "    </tr>\n",
       "  </thead>\n",
       "  <tbody>\n",
       "    <tr>\n",
       "      <th>0</th>\n",
       "      <td>1/2/2008</td>\n",
       "      <td>1447.160034</td>\n",
       "      <td>84.860001</td>\n",
       "      <td>78.470001</td>\n",
       "      <td>15.180</td>\n",
       "      <td>1.471692</td>\n",
       "    </tr>\n",
       "    <tr>\n",
       "      <th>1</th>\n",
       "      <td>1/3/2008</td>\n",
       "      <td>1447.160034</td>\n",
       "      <td>85.570000</td>\n",
       "      <td>78.370003</td>\n",
       "      <td>15.285</td>\n",
       "      <td>1.474491</td>\n",
       "    </tr>\n",
       "    <tr>\n",
       "      <th>2</th>\n",
       "      <td>1/4/2008</td>\n",
       "      <td>1411.630005</td>\n",
       "      <td>85.129997</td>\n",
       "      <td>77.309998</td>\n",
       "      <td>15.167</td>\n",
       "      <td>1.475492</td>\n",
       "    </tr>\n",
       "    <tr>\n",
       "      <th>3</th>\n",
       "      <td>1/7/2008</td>\n",
       "      <td>1416.180054</td>\n",
       "      <td>84.769997</td>\n",
       "      <td>75.500000</td>\n",
       "      <td>15.053</td>\n",
       "      <td>1.468299</td>\n",
       "    </tr>\n",
       "    <tr>\n",
       "      <th>4</th>\n",
       "      <td>1/8/2008</td>\n",
       "      <td>1390.189941</td>\n",
       "      <td>86.779999</td>\n",
       "      <td>76.059998</td>\n",
       "      <td>15.590</td>\n",
       "      <td>1.557099</td>\n",
       "    </tr>\n",
       "  </tbody>\n",
       "</table>\n",
       "</div>"
      ],
      "text/plain": [
       "       Date          SPX        GLD        USO     SLV   EUR/USD\n",
       "0  1/2/2008  1447.160034  84.860001  78.470001  15.180  1.471692\n",
       "1  1/3/2008  1447.160034  85.570000  78.370003  15.285  1.474491\n",
       "2  1/4/2008  1411.630005  85.129997  77.309998  15.167  1.475492\n",
       "3  1/7/2008  1416.180054  84.769997  75.500000  15.053  1.468299\n",
       "4  1/8/2008  1390.189941  86.779999  76.059998  15.590  1.557099"
      ]
     },
     "execution_count": 99,
     "metadata": {},
     "output_type": "execute_result"
    }
   ],
   "source": [
    "gold_data.head()"
   ]
  },
  {
   "cell_type": "code",
   "execution_count": 100,
   "id": "92403226",
   "metadata": {},
   "outputs": [
    {
     "data": {
      "text/html": [
       "<div>\n",
       "<style scoped>\n",
       "    .dataframe tbody tr th:only-of-type {\n",
       "        vertical-align: middle;\n",
       "    }\n",
       "\n",
       "    .dataframe tbody tr th {\n",
       "        vertical-align: top;\n",
       "    }\n",
       "\n",
       "    .dataframe thead th {\n",
       "        text-align: right;\n",
       "    }\n",
       "</style>\n",
       "<table border=\"1\" class=\"dataframe\">\n",
       "  <thead>\n",
       "    <tr style=\"text-align: right;\">\n",
       "      <th></th>\n",
       "      <th>Date</th>\n",
       "      <th>SPX</th>\n",
       "      <th>GLD</th>\n",
       "      <th>USO</th>\n",
       "      <th>SLV</th>\n",
       "      <th>EUR/USD</th>\n",
       "    </tr>\n",
       "  </thead>\n",
       "  <tbody>\n",
       "    <tr>\n",
       "      <th>2285</th>\n",
       "      <td>5/8/2018</td>\n",
       "      <td>2671.919922</td>\n",
       "      <td>124.589996</td>\n",
       "      <td>14.0600</td>\n",
       "      <td>15.5100</td>\n",
       "      <td>1.186789</td>\n",
       "    </tr>\n",
       "    <tr>\n",
       "      <th>2286</th>\n",
       "      <td>5/9/2018</td>\n",
       "      <td>2697.790039</td>\n",
       "      <td>124.330002</td>\n",
       "      <td>14.3700</td>\n",
       "      <td>15.5300</td>\n",
       "      <td>1.184722</td>\n",
       "    </tr>\n",
       "    <tr>\n",
       "      <th>2287</th>\n",
       "      <td>5/10/2018</td>\n",
       "      <td>2723.070068</td>\n",
       "      <td>125.180000</td>\n",
       "      <td>14.4100</td>\n",
       "      <td>15.7400</td>\n",
       "      <td>1.191753</td>\n",
       "    </tr>\n",
       "    <tr>\n",
       "      <th>2288</th>\n",
       "      <td>5/14/2018</td>\n",
       "      <td>2730.129883</td>\n",
       "      <td>124.489998</td>\n",
       "      <td>14.3800</td>\n",
       "      <td>15.5600</td>\n",
       "      <td>1.193118</td>\n",
       "    </tr>\n",
       "    <tr>\n",
       "      <th>2289</th>\n",
       "      <td>5/16/2018</td>\n",
       "      <td>2725.780029</td>\n",
       "      <td>122.543800</td>\n",
       "      <td>14.4058</td>\n",
       "      <td>15.4542</td>\n",
       "      <td>1.182033</td>\n",
       "    </tr>\n",
       "  </tbody>\n",
       "</table>\n",
       "</div>"
      ],
      "text/plain": [
       "           Date          SPX         GLD      USO      SLV   EUR/USD\n",
       "2285   5/8/2018  2671.919922  124.589996  14.0600  15.5100  1.186789\n",
       "2286   5/9/2018  2697.790039  124.330002  14.3700  15.5300  1.184722\n",
       "2287  5/10/2018  2723.070068  125.180000  14.4100  15.7400  1.191753\n",
       "2288  5/14/2018  2730.129883  124.489998  14.3800  15.5600  1.193118\n",
       "2289  5/16/2018  2725.780029  122.543800  14.4058  15.4542  1.182033"
      ]
     },
     "execution_count": 100,
     "metadata": {},
     "output_type": "execute_result"
    }
   ],
   "source": [
    "gold_data.tail()"
   ]
  },
  {
   "cell_type": "code",
   "execution_count": 101,
   "id": "b6994d32",
   "metadata": {},
   "outputs": [
    {
     "name": "stdout",
     "output_type": "stream",
     "text": [
      "<class 'pandas.core.frame.DataFrame'>\n",
      "RangeIndex: 2290 entries, 0 to 2289\n",
      "Data columns (total 6 columns):\n",
      " #   Column   Non-Null Count  Dtype  \n",
      "---  ------   --------------  -----  \n",
      " 0   Date     2290 non-null   object \n",
      " 1   SPX      2290 non-null   float64\n",
      " 2   GLD      2290 non-null   float64\n",
      " 3   USO      2290 non-null   float64\n",
      " 4   SLV      2290 non-null   float64\n",
      " 5   EUR/USD  2290 non-null   float64\n",
      "dtypes: float64(5), object(1)\n",
      "memory usage: 107.5+ KB\n"
     ]
    }
   ],
   "source": [
    "gold_data.info()"
   ]
  },
  {
   "cell_type": "code",
   "execution_count": 102,
   "id": "627c2697",
   "metadata": {},
   "outputs": [
    {
     "data": {
      "text/html": [
       "<div>\n",
       "<style scoped>\n",
       "    .dataframe tbody tr th:only-of-type {\n",
       "        vertical-align: middle;\n",
       "    }\n",
       "\n",
       "    .dataframe tbody tr th {\n",
       "        vertical-align: top;\n",
       "    }\n",
       "\n",
       "    .dataframe thead th {\n",
       "        text-align: right;\n",
       "    }\n",
       "</style>\n",
       "<table border=\"1\" class=\"dataframe\">\n",
       "  <thead>\n",
       "    <tr style=\"text-align: right;\">\n",
       "      <th></th>\n",
       "      <th>SPX</th>\n",
       "      <th>GLD</th>\n",
       "      <th>USO</th>\n",
       "      <th>SLV</th>\n",
       "      <th>EUR/USD</th>\n",
       "    </tr>\n",
       "  </thead>\n",
       "  <tbody>\n",
       "    <tr>\n",
       "      <th>count</th>\n",
       "      <td>2290.000000</td>\n",
       "      <td>2290.000000</td>\n",
       "      <td>2290.000000</td>\n",
       "      <td>2290.000000</td>\n",
       "      <td>2290.000000</td>\n",
       "    </tr>\n",
       "    <tr>\n",
       "      <th>mean</th>\n",
       "      <td>1654.315776</td>\n",
       "      <td>122.732875</td>\n",
       "      <td>31.842221</td>\n",
       "      <td>20.084997</td>\n",
       "      <td>1.283653</td>\n",
       "    </tr>\n",
       "    <tr>\n",
       "      <th>std</th>\n",
       "      <td>519.111540</td>\n",
       "      <td>23.283346</td>\n",
       "      <td>19.523517</td>\n",
       "      <td>7.092566</td>\n",
       "      <td>0.131547</td>\n",
       "    </tr>\n",
       "    <tr>\n",
       "      <th>min</th>\n",
       "      <td>676.530029</td>\n",
       "      <td>70.000000</td>\n",
       "      <td>7.960000</td>\n",
       "      <td>8.850000</td>\n",
       "      <td>1.039047</td>\n",
       "    </tr>\n",
       "    <tr>\n",
       "      <th>25%</th>\n",
       "      <td>1239.874969</td>\n",
       "      <td>109.725000</td>\n",
       "      <td>14.380000</td>\n",
       "      <td>15.570000</td>\n",
       "      <td>1.171313</td>\n",
       "    </tr>\n",
       "    <tr>\n",
       "      <th>50%</th>\n",
       "      <td>1551.434998</td>\n",
       "      <td>120.580002</td>\n",
       "      <td>33.869999</td>\n",
       "      <td>17.268500</td>\n",
       "      <td>1.303297</td>\n",
       "    </tr>\n",
       "    <tr>\n",
       "      <th>75%</th>\n",
       "      <td>2073.010070</td>\n",
       "      <td>132.840004</td>\n",
       "      <td>37.827501</td>\n",
       "      <td>22.882500</td>\n",
       "      <td>1.369971</td>\n",
       "    </tr>\n",
       "    <tr>\n",
       "      <th>max</th>\n",
       "      <td>2872.870117</td>\n",
       "      <td>184.589996</td>\n",
       "      <td>117.480003</td>\n",
       "      <td>47.259998</td>\n",
       "      <td>1.598798</td>\n",
       "    </tr>\n",
       "  </tbody>\n",
       "</table>\n",
       "</div>"
      ],
      "text/plain": [
       "               SPX          GLD          USO          SLV      EUR/USD\n",
       "count  2290.000000  2290.000000  2290.000000  2290.000000  2290.000000\n",
       "mean   1654.315776   122.732875    31.842221    20.084997     1.283653\n",
       "std     519.111540    23.283346    19.523517     7.092566     0.131547\n",
       "min     676.530029    70.000000     7.960000     8.850000     1.039047\n",
       "25%    1239.874969   109.725000    14.380000    15.570000     1.171313\n",
       "50%    1551.434998   120.580002    33.869999    17.268500     1.303297\n",
       "75%    2073.010070   132.840004    37.827501    22.882500     1.369971\n",
       "max    2872.870117   184.589996   117.480003    47.259998     1.598798"
      ]
     },
     "execution_count": 102,
     "metadata": {},
     "output_type": "execute_result"
    }
   ],
   "source": [
    "gold_data.describe()"
   ]
  },
  {
   "cell_type": "code",
   "execution_count": 103,
   "id": "d67a04ab",
   "metadata": {},
   "outputs": [
    {
     "data": {
      "text/plain": [
       "(2290, 6)"
      ]
     },
     "execution_count": 103,
     "metadata": {},
     "output_type": "execute_result"
    }
   ],
   "source": [
    "gold_data.shape"
   ]
  },
  {
   "cell_type": "code",
   "execution_count": 104,
   "id": "fa383dac",
   "metadata": {},
   "outputs": [
    {
     "data": {
      "text/plain": [
       "Date       0\n",
       "SPX        0\n",
       "GLD        0\n",
       "USO        0\n",
       "SLV        0\n",
       "EUR/USD    0\n",
       "dtype: int64"
      ]
     },
     "execution_count": 104,
     "metadata": {},
     "output_type": "execute_result"
    }
   ],
   "source": [
    "gold_data.isnull().sum()"
   ]
  },
  {
   "cell_type": "markdown",
   "id": "afe7554e",
   "metadata": {},
   "source": [
    "# Correlation"
   ]
  },
  {
   "cell_type": "code",
   "execution_count": 105,
   "id": "476c7b87",
   "metadata": {},
   "outputs": [
    {
     "data": {
      "text/html": [
       "<div>\n",
       "<style scoped>\n",
       "    .dataframe tbody tr th:only-of-type {\n",
       "        vertical-align: middle;\n",
       "    }\n",
       "\n",
       "    .dataframe tbody tr th {\n",
       "        vertical-align: top;\n",
       "    }\n",
       "\n",
       "    .dataframe thead th {\n",
       "        text-align: right;\n",
       "    }\n",
       "</style>\n",
       "<table border=\"1\" class=\"dataframe\">\n",
       "  <thead>\n",
       "    <tr style=\"text-align: right;\">\n",
       "      <th></th>\n",
       "      <th>SPX</th>\n",
       "      <th>GLD</th>\n",
       "      <th>USO</th>\n",
       "      <th>SLV</th>\n",
       "      <th>EUR/USD</th>\n",
       "    </tr>\n",
       "  </thead>\n",
       "  <tbody>\n",
       "    <tr>\n",
       "      <th>SPX</th>\n",
       "      <td>1.000000</td>\n",
       "      <td>0.049345</td>\n",
       "      <td>-0.591573</td>\n",
       "      <td>-0.274055</td>\n",
       "      <td>-0.672017</td>\n",
       "    </tr>\n",
       "    <tr>\n",
       "      <th>GLD</th>\n",
       "      <td>0.049345</td>\n",
       "      <td>1.000000</td>\n",
       "      <td>-0.186360</td>\n",
       "      <td>0.866632</td>\n",
       "      <td>-0.024375</td>\n",
       "    </tr>\n",
       "    <tr>\n",
       "      <th>USO</th>\n",
       "      <td>-0.591573</td>\n",
       "      <td>-0.186360</td>\n",
       "      <td>1.000000</td>\n",
       "      <td>0.167547</td>\n",
       "      <td>0.829317</td>\n",
       "    </tr>\n",
       "    <tr>\n",
       "      <th>SLV</th>\n",
       "      <td>-0.274055</td>\n",
       "      <td>0.866632</td>\n",
       "      <td>0.167547</td>\n",
       "      <td>1.000000</td>\n",
       "      <td>0.321631</td>\n",
       "    </tr>\n",
       "    <tr>\n",
       "      <th>EUR/USD</th>\n",
       "      <td>-0.672017</td>\n",
       "      <td>-0.024375</td>\n",
       "      <td>0.829317</td>\n",
       "      <td>0.321631</td>\n",
       "      <td>1.000000</td>\n",
       "    </tr>\n",
       "  </tbody>\n",
       "</table>\n",
       "</div>"
      ],
      "text/plain": [
       "              SPX       GLD       USO       SLV   EUR/USD\n",
       "SPX      1.000000  0.049345 -0.591573 -0.274055 -0.672017\n",
       "GLD      0.049345  1.000000 -0.186360  0.866632 -0.024375\n",
       "USO     -0.591573 -0.186360  1.000000  0.167547  0.829317\n",
       "SLV     -0.274055  0.866632  0.167547  1.000000  0.321631\n",
       "EUR/USD -0.672017 -0.024375  0.829317  0.321631  1.000000"
      ]
     },
     "execution_count": 105,
     "metadata": {},
     "output_type": "execute_result"
    }
   ],
   "source": [
    "corr = gold_data.corr()\n",
    "corr"
   ]
  },
  {
   "cell_type": "code",
   "execution_count": 106,
   "id": "e290e2fb",
   "metadata": {},
   "outputs": [
    {
     "data": {
      "text/plain": [
       "<AxesSubplot:>"
      ]
     },
     "execution_count": 106,
     "metadata": {},
     "output_type": "execute_result"
    },
    {
     "data": {
      "image/png": "[encoded data removed]",
      "text/plain": [
       "<Figure size 720x576 with 2 Axes>"
      ]
     },
     "metadata": {
      "needs_background": "light"
     },
     "output_type": "display_data"
    }
   ],
   "source": [
    "plt.figure(figsize=(10,8))\n",
    "sns.heatmap(corr,annot=True,cmap='viridis')"
   ]
  },
  {
   "cell_type": "code",
   "execution_count": 107,
   "id": "ed6f33f2",
   "metadata": {},
   "outputs": [
    {
     "name": "stdout",
     "output_type": "stream",
     "text": [
      "SPX        0.049345\n",
      "GLD        1.000000\n",
      "USO       -0.186360\n",
      "SLV        0.866632\n",
      "EUR/USD   -0.024375\n",
      "Name: GLD, dtype: float64\n"
     ]
    }
   ],
   "source": [
    "print(corr['GLD'])"
   ]
  },
  {
   "cell_type": "markdown",
   "id": "5e6f8ef5",
   "metadata": {},
   "source": [
    "# check the distribution of the Gold price"
   ]
  },
  {
   "cell_type": "code",
   "execution_count": 108,
   "id": "0443a047",
   "metadata": {},
   "outputs": [
    {
     "name": "stderr",
     "output_type": "stream",
     "text": [
      "C:\\Users\\DELL\\anaconda3\\lib\\site-packages\\seaborn\\distributions.py:2557: FutureWarning: `distplot` is a deprecated function and will be removed in a future version. Please adapt your code to use either `displot` (a figure-level function with similar flexibility) or `histplot` (an axes-level function for histograms).\n",
      "  warnings.warn(msg, FutureWarning)\n"
     ]
    },
    {
     "data": {
      "text/plain": [
       "<AxesSubplot:xlabel='GLD', ylabel='Density'>"
      ]
     },
     "execution_count": 108,
     "metadata": {},
     "output_type": "execute_result"
    },
    {
     "data": {
      "image/png": "[encoded data removed]",
      "text/plain": [
       "<Figure size 432x288 with 1 Axes>"
      ]
     },
     "metadata": {
      "needs_background": "light"
     },
     "output_type": "display_data"
    }
   ],
   "source": [
    "sns.distplot(gold_data['GLD'],color='green')"
   ]
  },
  {
   "cell_type": "markdown",
   "id": "64cc1c96",
   "metadata": {},
   "source": [
    "# Split the data"
   ]
  },
  {
   "cell_type": "code",
   "execution_count": 109,
   "id": "49619089",
   "metadata": {},
   "outputs": [],
   "source": [
    "X = gold_data.drop(columns=['Date','GLD'],axis=1)\n",
    "y = gold_data['GLD']"
   ]
  },
  {
   "cell_type": "code",
   "execution_count": 110,
   "id": "d5c5e36e",
   "metadata": {},
   "outputs": [
    {
     "data": {
      "text/html": [
       "<div>\n",
       "<style scoped>\n",
       "    .dataframe tbody tr th:only-of-type {\n",
       "        vertical-align: middle;\n",
       "    }\n",
       "\n",
       "    .dataframe tbody tr th {\n",
       "        vertical-align: top;\n",
       "    }\n",
       "\n",
       "    .dataframe thead th {\n",
       "        text-align: right;\n",
       "    }\n",
       "</style>\n",
       "<table border=\"1\" class=\"dataframe\">\n",
       "  <thead>\n",
       "    <tr style=\"text-align: right;\">\n",
       "      <th></th>\n",
       "      <th>SPX</th>\n",
       "      <th>USO</th>\n",
       "      <th>SLV</th>\n",
       "      <th>EUR/USD</th>\n",
       "    </tr>\n",
       "  </thead>\n",
       "  <tbody>\n",
       "    <tr>\n",
       "      <th>0</th>\n",
       "      <td>1447.160034</td>\n",
       "      <td>78.470001</td>\n",
       "      <td>15.180</td>\n",
       "      <td>1.471692</td>\n",
       "    </tr>\n",
       "    <tr>\n",
       "      <th>1</th>\n",
       "      <td>1447.160034</td>\n",
       "      <td>78.370003</td>\n",
       "      <td>15.285</td>\n",
       "      <td>1.474491</td>\n",
       "    </tr>\n",
       "    <tr>\n",
       "      <th>2</th>\n",
       "      <td>1411.630005</td>\n",
       "      <td>77.309998</td>\n",
       "      <td>15.167</td>\n",
       "      <td>1.475492</td>\n",
       "    </tr>\n",
       "    <tr>\n",
       "      <th>3</th>\n",
       "      <td>1416.180054</td>\n",
       "      <td>75.500000</td>\n",
       "      <td>15.053</td>\n",
       "      <td>1.468299</td>\n",
       "    </tr>\n",
       "    <tr>\n",
       "      <th>4</th>\n",
       "      <td>1390.189941</td>\n",
       "      <td>76.059998</td>\n",
       "      <td>15.590</td>\n",
       "      <td>1.557099</td>\n",
       "    </tr>\n",
       "  </tbody>\n",
       "</table>\n",
       "</div>"
      ],
      "text/plain": [
       "           SPX        USO     SLV   EUR/USD\n",
       "0  1447.160034  78.470001  15.180  1.471692\n",
       "1  1447.160034  78.370003  15.285  1.474491\n",
       "2  1411.630005  77.309998  15.167  1.475492\n",
       "3  1416.180054  75.500000  15.053  1.468299\n",
       "4  1390.189941  76.059998  15.590  1.557099"
      ]
     },
     "execution_count": 110,
     "metadata": {},
     "output_type": "execute_result"
    }
   ],
   "source": [
    "X.head()"
   ]
  },
  {
   "cell_type": "code",
   "execution_count": 111,
   "id": "3cf7fe56",
   "metadata": {},
   "outputs": [
    {
     "data": {
      "text/plain": [
       "0    84.860001\n",
       "1    85.570000\n",
       "2    85.129997\n",
       "3    84.769997\n",
       "4    86.779999\n",
       "Name: GLD, dtype: float64"
      ]
     },
     "execution_count": 111,
     "metadata": {},
     "output_type": "execute_result"
    }
   ],
   "source": [
    "y.head()"
   ]
  },
  {
   "cell_type": "code",
   "execution_count": 112,
   "id": "2b8498b1",
   "metadata": {},
   "outputs": [
    {
     "data": {
      "text/plain": [
       "((2290, 4), (2290,))"
      ]
     },
     "execution_count": 112,
     "metadata": {},
     "output_type": "execute_result"
    }
   ],
   "source": [
    "X.shape,y.shape"
   ]
  },
  {
   "cell_type": "markdown",
   "id": "a5692f79",
   "metadata": {},
   "source": [
    "# Train Test Split"
   ]
  },
  {
   "cell_type": "code",
   "execution_count": 113,
   "id": "ddad8baa",
   "metadata": {},
   "outputs": [],
   "source": [
    "X_train,X_test,y_train,y_test = train_test_split(X,y,test_size=0.2,random_state=2)"
   ]
  },
  {
   "cell_type": "code",
   "execution_count": 114,
   "id": "54490a62",
   "metadata": {},
   "outputs": [
    {
     "name": "stdout",
     "output_type": "stream",
     "text": [
      "(1832, 4) (458, 4) (1832,) (458,)\n"
     ]
    }
   ],
   "source": [
    "print(X_train.shape,X_test.shape,y_train.shape,y_test.shape)"
   ]
  },
  {
   "cell_type": "markdown",
   "id": "293d7a48",
   "metadata": {},
   "source": [
    "# MODEL TRAINING"
   ]
  },
  {
   "cell_type": "code",
   "execution_count": 115,
   "id": "851a93e9",
   "metadata": {},
   "outputs": [],
   "source": [
    "model = RandomForestRegressor(n_estimators=100)"
   ]
  },
  {
   "cell_type": "code",
   "execution_count": 116,
   "id": "37c5a3e3",
   "metadata": {},
   "outputs": [
    {
     "data": {
      "text/plain": [
       "RandomForestRegressor()"
      ]
     },
     "execution_count": 116,
     "metadata": {},
     "output_type": "execute_result"
    }
   ],
   "source": [
    "model.fit(X_train,y_train)"
   ]
  },
  {
   "cell_type": "markdown",
   "id": "07d6a2b2",
   "metadata": {},
   "source": [
    "# Model Evaluation"
   ]
  },
  {
   "cell_type": "code",
   "execution_count": 117,
   "id": "4bff34c3",
   "metadata": {},
   "outputs": [],
   "source": [
    "test_data_prediction = model.predict(X_test)"
   ]
  },
  {
   "cell_type": "code",
   "execution_count": 118,
   "id": "01a2f9a9",
   "metadata": {},
   "outputs": [
    {
     "data": {
      "text/plain": [
       "array([168.82369921,  82.03339992, 116.14190003, 127.53750064,\n",
       "       120.71040103, 154.69849776, 150.30449798, 126.06410066,\n",
       "       117.40049901, 125.96100068, 117.0393006 , 171.55910033,\n",
       "       141.44879828, 168.00109846, 115.14479985, 117.5159005 ,\n",
       "       141.20250306, 170.37190114, 159.37100257, 159.56259894,\n",
       "       155.10320044, 125.26300051, 176.11249983, 156.85910296,\n",
       "       125.13460037,  93.83630001,  76.89530038, 120.3315998 ,\n",
       "       119.0849993 , 167.43850017,  88.21660071, 125.16740012,\n",
       "        91.2083007 , 117.66730024, 121.09299897, 136.74220081,\n",
       "       115.53870124, 115.10930062, 148.20719991, 107.03890105,\n",
       "       104.21810261,  87.16979801, 126.52250082, 117.86289996,\n",
       "       153.04759906, 119.57160014, 108.5939995 , 108.06829819,\n",
       "        93.20900034, 127.11489782,  75.19610042, 113.57899916,\n",
       "       121.26740017, 111.42699903, 118.92519888, 120.72699948,\n",
       "       159.05679984, 168.75780137, 147.13649671,  85.94389862,\n",
       "        94.52870032,  86.79269897,  90.55950035, 118.87010093,\n",
       "       126.36450058, 127.57439974, 169.66389977, 122.30559954,\n",
       "       117.32369945,  98.18430022, 168.0251012 , 143.01559789,\n",
       "       131.5283025 , 121.16940221, 121.25859971, 119.66090058,\n",
       "       114.3255012 , 118.36920041, 107.02490119, 127.93980086,\n",
       "       113.84109943, 107.61100008, 117.00590039, 119.62359856,\n",
       "        89.04970056,  88.17089849, 146.40200254, 127.36880052,\n",
       "       113.25880051, 109.86109865, 108.19609892,  77.49839886,\n",
       "       169.35550122, 114.14079922, 121.54289916, 128.24060183,\n",
       "       154.87339814,  91.78459962, 135.84300108, 159.83680335,\n",
       "       125.24240036, 125.42540061, 130.61710147, 114.58470094,\n",
       "       119.75850002,  92.18270004, 110.17019872, 168.94119913,\n",
       "       155.83439923, 114.45170011, 106.73710129,  79.53259986,\n",
       "       113.3344003 , 125.79060062, 107.43689937, 119.16940057,\n",
       "       155.71320313, 159.79209918, 119.84170001, 135.19010352,\n",
       "       101.46649989, 117.51289806, 119.31170064, 112.95130096,\n",
       "       102.78639963, 160.47049697,  99.22730033, 148.29449956,\n",
       "       125.48440097, 169.46879857, 126.0237986 , 127.37539719,\n",
       "       127.37450147, 113.71429922, 113.24560032, 123.58269913,\n",
       "       102.16519884,  89.53569947, 124.81449948, 101.93519938,\n",
       "       107.16829925, 113.69370038, 117.68290046,  98.75869934,\n",
       "       121.6358005 , 163.11699921,  87.21869891, 106.9301999 ,\n",
       "       117.19660078, 127.72150182, 123.86970067,  80.70009915,\n",
       "       120.35570052, 158.36859818,  87.81330014, 110.32219965,\n",
       "       118.91589932, 172.53839851, 103.00019927, 105.72360036,\n",
       "       122.54620019, 158.42489804,  87.32189851,  93.06700026,\n",
       "       112.95160036, 177.00649999, 114.54639969, 119.26390043,\n",
       "        94.52350062, 125.88040056, 165.93600048, 114.69910093,\n",
       "       116.81180136,  88.18909853, 149.74860199, 120.27649959,\n",
       "        89.7588995 , 111.76929986, 117.05690009, 118.6410011 ,\n",
       "        88.15489939,  94.08209982, 116.9633001 , 118.57830167,\n",
       "       120.22650047, 126.91209813, 121.78719947, 149.15659974,\n",
       "       164.88310084, 118.53879967, 120.21210141, 151.56410031,\n",
       "       118.64409914, 173.39599889, 105.8179994 , 104.96160122,\n",
       "       150.67670197, 113.63210066, 124.93020101, 147.34619968,\n",
       "       119.60600103, 115.29570061, 112.68699991, 113.5124022 ,\n",
       "       140.95500179, 117.84929763, 102.96830045, 115.910801  ,\n",
       "       103.80550192,  98.81280022, 117.46990039,  90.5204003 ,\n",
       "        91.49370056, 153.57629872, 102.67250008, 155.10210108,\n",
       "       114.45010173, 138.81980074,  90.13739798, 115.37219953,\n",
       "       114.71149999, 122.90400003, 121.65230024, 165.39340193,\n",
       "        92.92989954, 134.81810072, 121.34029963, 120.73360067,\n",
       "       104.50970018, 142.98420263, 121.59009912, 116.60650034,\n",
       "       113.42540059, 127.13829755, 122.62939936, 125.78669933,\n",
       "       121.23580042,  86.9088991 , 132.41280168, 145.45030215,\n",
       "        92.5951998 , 157.50830028, 159.52270221, 126.73419881,\n",
       "       165.28690032, 108.77309967, 109.89710099, 103.61629828,\n",
       "        94.29810038, 127.89510299, 107.27530024, 159.87869999,\n",
       "       121.60350046, 131.77490032, 130.60180104, 160.43229992,\n",
       "        90.12029815, 175.38780204, 127.5862999 , 126.82399821,\n",
       "        86.28439894, 124.72919952, 150.40939754,  89.76729967,\n",
       "       106.97409997, 108.89459998,  83.89459916, 136.10079919,\n",
       "       155.03560254, 140.05640342,  73.77490036, 152.99690061,\n",
       "       126.27219984, 126.7892002 , 127.46639937, 108.40559961,\n",
       "       156.34759961, 114.45290096, 117.02930123, 125.0329993 ,\n",
       "       154.03160056, 121.36419976, 156.4324988 ,  92.88340043,\n",
       "       125.53630159, 125.44430015,  87.90250061,  92.13149945,\n",
       "       126.23659905, 128.1508032 , 113.14240055, 117.76089735,\n",
       "       120.86140033, 127.25969757, 119.47030088, 136.3253003 ,\n",
       "        93.85049944, 119.87690036, 113.13220115,  94.33069962,\n",
       "       108.89099917,  87.67899956, 108.90669936,  89.66649962,\n",
       "        92.63149988, 131.89930313, 162.47300026,  89.28040038,\n",
       "       119.5225008 , 133.32880168, 123.72889998, 128.51780164,\n",
       "       101.94559837,  88.95949847, 131.91570057, 119.57310029,\n",
       "       108.79349955, 168.67470128, 115.14460027,  86.65969891,\n",
       "       118.91720041,  91.07339963, 161.9442995 , 116.43540038,\n",
       "       121.49489979, 160.27049771, 120.21159932, 112.7750994 ,\n",
       "       108.29059871, 126.675     ,  75.8057005 , 102.97959986,\n",
       "       128.01470297, 121.80839875,  92.58089999, 132.13910068,\n",
       "       118.13960126, 116.32129942, 154.53620278, 160.04350067,\n",
       "       110.11229968, 155.08489747, 119.23990057, 160.86940081,\n",
       "       118.43010016, 156.96579904, 114.96319956, 116.68770022,\n",
       "       148.42009901, 114.95710031, 125.94609932, 165.4106992 ,\n",
       "       117.77080036, 125.36779915, 153.08000335, 153.36690258,\n",
       "       132.04450026, 114.83620012, 121.18770189, 125.32190088,\n",
       "        89.8155002 , 123.35779989, 154.77690082, 111.74190023,\n",
       "       106.95019975, 161.83610005, 118.45119978, 165.60890009,\n",
       "       134.02780082, 115.03079968, 153.00899931, 168.60770035,\n",
       "       114.83750011, 114.13680132, 159.54129949,  85.46979861,\n",
       "       127.12200087, 127.95750048, 128.79349986, 124.36730076,\n",
       "       123.89580084,  90.73040074, 153.11660033,  97.1051    ,\n",
       "       137.14589984,  89.33479898, 107.56890024, 115.0927004 ,\n",
       "       112.94630064, 123.9365992 ,  91.32869885, 125.27570092,\n",
       "       162.25249752, 119.965899  , 165.18750105, 126.86429758,\n",
       "       112.4521001 , 127.53949908,  94.93409918,  90.97039988,\n",
       "       103.67889927, 120.83040027,  83.08789961, 126.38950011,\n",
       "       160.28190499, 117.28830078, 118.18060008, 119.66809982,\n",
       "       122.63959966, 120.19100127, 121.46509979, 118.0297008 ,\n",
       "       107.09349975, 148.45710014, 126.24739826, 115.71560059,\n",
       "        74.00240009, 127.78850141, 154.9718011 , 121.97529992,\n",
       "       125.60040017,  88.7439002 , 103.29549892, 124.21690028,\n",
       "       120.16380033,  73.46230062, 152.1982996 , 121.13170042,\n",
       "       104.71690025,  86.47209761, 114.92219889, 172.18689824,\n",
       "       119.99380034, 159.52569771, 113.17699919, 121.30020006,\n",
       "       118.42840099,  95.82549982, 118.7482002 , 125.85160035,\n",
       "       118.54539974,  96.08200056, 154.08280159, 122.08579986,\n",
       "       147.20770042, 159.50620316, 113.91790007, 122.53859928,\n",
       "       150.55969826, 127.34470041, 165.79500063, 136.07889999,\n",
       "       119.89879994, 166.5886982 , 108.53339908, 121.77699836,\n",
       "       138.61470174, 106.347199  ])"
      ]
     },
     "execution_count": 118,
     "metadata": {},
     "output_type": "execute_result"
    }
   ],
   "source": [
    "test_data_prediction"
   ]
  },
  {
   "cell_type": "markdown",
   "id": "2c5ae862",
   "metadata": {},
   "source": [
    "# R squared error"
   ]
  },
  {
   "cell_type": "code",
   "execution_count": 119,
   "id": "c364f358",
   "metadata": {},
   "outputs": [
    {
     "name": "stdout",
     "output_type": "stream",
     "text": [
      "R squared error is  0.9893201242901235\n"
     ]
    }
   ],
   "source": [
    "error_score = metrics.r2_score(y_test,test_data_prediction)\n",
    "print(\"R squared error is \",error_score)"
   ]
  },
  {
   "cell_type": "markdown",
   "id": "6c3a9836",
   "metadata": {},
   "source": [
    "# compare the actual and predicted values "
   ]
  },
  {
   "cell_type": "code",
   "execution_count": 120,
   "id": "e9183643",
   "metadata": {},
   "outputs": [],
   "source": [
    "y_test = np.array(y_test)"
   ]
  },
  {
   "cell_type": "code",
   "execution_count": 121,
   "id": "d379efce",
   "metadata": {},
   "outputs": [
    {
     "data": {
      "text/plain": [
       "array([168.020004,  81.230003, 112.32    , 127.589996, 119.620003,\n",
       "       154.210007, 148.910004, 126.190002, 117.470001, 125.739998,\n",
       "       115.379997, 167.119995, 141.630005, 169.559998, 115.599998,\n",
       "       119.669998, 132.949997, 170.399994, 159.369995, 173.529999,\n",
       "       154.720001, 128.119995, 177.720001, 157.190002, 125.309998,\n",
       "        93.400002,  76.790001, 119.690002, 118.989998, 167.389999,\n",
       "        87.5     , 124.980003,  91.230003, 115.489998, 120.949997,\n",
       "       133.809998, 116.690002, 113.809998, 133.580002, 105.970001,\n",
       "       105.120003,  87.959999, 126.82    , 116.860001, 159.259995,\n",
       "       119.459999, 109.160004, 108.620003,  93.269997, 127.160004,\n",
       "        72.260002, 113.470001, 119.68    , 109.139999, 119.309998,\n",
       "       120.050003, 159.889999, 161.490005, 146.740005,  85.809998,\n",
       "        93.709999,  85.550003,  91.029999, 118.489998, 126.449997,\n",
       "       126.980003, 171.699997, 122.400002, 116.410004,  97.959999,\n",
       "       169.630005, 142.639999, 131.809998, 121.360001, 124.      ,\n",
       "       119.699997, 113.889999, 118.919998, 105.639999, 127.669998,\n",
       "       114.32    , 107.309998, 114.82    , 119.230003,  86.860001,\n",
       "        87.010002, 147.729996, 128.199997, 113.260002, 110.82    ,\n",
       "       107.360001,  74.220001, 172.940002, 114.099998, 121.650002,\n",
       "       129.110001, 156.770004,  91.660004, 133.479996, 161.029999,\n",
       "       128.470001, 125.75    , 132.289993, 114.019997, 118.230003,\n",
       "        93.709999, 111.150002, 164.289993, 157.770004, 115.510002,\n",
       "       107.129997,  83.309998, 115.150002, 125.540001, 106.080002,\n",
       "       120.580002, 157.139999, 161.059998, 120.309998, 133.070007,\n",
       "       103.949997, 116.360001, 119.309998, 112.370003, 102.839996,\n",
       "       161.199997,  97.050003, 147.830002, 125.32    , 171.139999,\n",
       "       123.540001, 127.07    , 127.959999, 114.830002, 111.540001,\n",
       "       122.849998, 100.5     ,  90.040001, 123.989998,  98.900002,\n",
       "       106.169998, 110.82    , 120.389999,  98.849998, 122.449997,\n",
       "       162.300003,  86.650002, 106.150002, 116.43    , 127.959999,\n",
       "       122.830002,  80.760002, 119.529999, 159.729996,  88.470001,\n",
       "       110.160004, 115.940002, 170.75    , 102.339996, 105.019997,\n",
       "       122.730003, 160.330002,  86.949997,  93.190002, 111.43    ,\n",
       "       172.360001, 114.120003, 120.129997,  93.699997, 126.089996,\n",
       "       167.619995, 116.330002, 117.120003,  87.25    , 149.199997,\n",
       "       118.690002,  89.419998, 113.650002, 115.519997, 118.669998,\n",
       "        86.989998,  93.830002, 116.550003, 118.300003, 121.800003,\n",
       "       127.660004, 122.699997, 137.710007, 163.630005, 118.43    ,\n",
       "       120.870003, 152.619995, 117.959999, 160.639999,  99.910004,\n",
       "       104.269997, 149.820007, 110.449997, 125.440002, 145.649994,\n",
       "       120.220001, 115.68    , 113.029999, 112.150002, 134.050003,\n",
       "       118.059998, 102.610001, 116.339996, 104.68    ,  98.830002,\n",
       "       116.089996,  91.089996,  92.080002, 154.669998, 102.43    ,\n",
       "       154.770004, 113.68    , 138.089996,  91.330002, 116.330002,\n",
       "       115.669998, 122.5438  , 122.290001, 166.020004,  92.739998,\n",
       "       137.240005, 121.309998, 119.550003, 104.669998, 135.050003,\n",
       "       122.919998, 115.620003, 113.150002, 124.269997, 123.349998,\n",
       "       125.779999, 121.559998,  85.82    , 132.449997, 154.869995,\n",
       "        92.059998, 148.970001, 161.880005, 127.199997, 167.350006,\n",
       "       108.559998, 110.440002, 104.209999,  95.769997, 129.470001,\n",
       "       108.349998, 149.119995, 121.730003, 131.699997, 131.960007,\n",
       "       160.990005,  90.57    , 173.889999, 128.089996, 127.550003,\n",
       "        86.779999, 123.940002, 150.419998,  89.269997, 108.050003,\n",
       "       111.019997,  89.18    , 138.369995, 156.220001, 134.660004,\n",
       "        73.580002, 152.970001, 126.559998, 126.139999, 127.75    ,\n",
       "       108.360001, 157.460007, 114.      , 116.989998, 126.860001,\n",
       "       155.240005, 120.650002, 156.990005,  92.790001, 125.389999,\n",
       "       124.889999,  88.25    ,  91.93    , 126.339996, 128.839996,\n",
       "       112.889999, 117.360001, 119.739998, 128.179993, 121.480003,\n",
       "       134.199997,  93.900002, 118.900002, 112.300003,  94.779999,\n",
       "       108.699997,  86.709999, 110.260002,  88.639999,  93.239998,\n",
       "       131.320007, 163.089996,  90.120003, 119.82    , 133.940002,\n",
       "       125.839996, 127.739998, 101.459999,  89.18    , 132.199997,\n",
       "       122.150002, 110.529999, 172.070007, 115.279999,  85.389999,\n",
       "       121.959999,  90.760002, 161.300003, 116.519997, 120.400002,\n",
       "       160.490005, 121.489998, 114.949997, 109.980003, 126.529999,\n",
       "        73.449997, 102.040001, 130.229996, 121.099998,  91.169998,\n",
       "       132.089996, 117.970001, 116.110001, 156.25    , 161.600006,\n",
       "       110.209999, 135.410004, 119.040001, 162.020004, 118.080002,\n",
       "       159.699997, 114.43    , 117.980003, 147.770004, 115.330002,\n",
       "       126.230003, 165.589996, 116.790001, 125.029999, 153.229996,\n",
       "       153.470001, 132.809998, 115.029999, 120.959999, 126.470001,\n",
       "        93.089996, 122.519997, 151.410004, 111.669998, 106.949997,\n",
       "       162.619995, 120.050003, 165.160004, 131.570007, 116.169998,\n",
       "       152.990005, 169.429993, 110.57    , 115.379997, 161.199997,\n",
       "        85.43    , 128.110001, 127.269997, 129.210007, 125.610001,\n",
       "       124.230003,  91.099998, 151.619995,  96.089996, 136.179993,\n",
       "        90.25    , 106.93    , 115.470001, 111.540001, 126.309998,\n",
       "        90.919998, 125.410004, 163.350006, 117.959999, 166.070007,\n",
       "       127.790001, 111.5     , 127.580002,  96.910004,  89.980003,\n",
       "        99.339996, 120.419998,  82.199997, 125.370003, 159.429993,\n",
       "       117.099998, 120.730003, 118.650002, 120.620003, 119.480003,\n",
       "       121.18    , 118.809998, 107.559998, 146.380005, 122.830002,\n",
       "       115.43    ,  71.709999, 128.070007, 157.199997, 120.860001,\n",
       "       126.239998,  89.010002, 102.550003, 124.32    , 119.910004,\n",
       "        72.150002, 150.75    , 120.029999, 104.099998,  86.230003,\n",
       "       113.580002, 172.100006, 121.480003, 161.539993, 112.769997,\n",
       "       122.419998, 120.940002,  95.989998, 120.760002, 125.32    ,\n",
       "       118.080002,  97.730003, 154.649994, 120.589996, 143.470001,\n",
       "       160.589996, 111.629997, 122.120003, 146.240005, 127.959999,\n",
       "       164.119995, 133.429993, 122.379997, 166.380005, 106.379997,\n",
       "       122.239998, 133.830002, 102.360001])"
      ]
     },
     "execution_count": 121,
     "metadata": {},
     "output_type": "execute_result"
    }
   ],
   "source": [
    "y_test"
   ]
  },
  {
   "cell_type": "code",
   "execution_count": 122,
   "id": "df965bd0",
   "metadata": {},
   "outputs": [
    {
     "data": {
      "image/png": "[encoded data removed]",
      "text/plain": [
       "<Figure size 432x288 with 1 Axes>"
      ]
     },
     "metadata": {
      "needs_background": "light"
     },
     "output_type": "display_data"
    }
   ],
   "source": [
    "plt.plot(y_test,color='blue',label = 'Actual Values')\n",
    "plt.plot(test_data_prediction,color='green',label='Predicted Values')\n",
    "plt.title('Actual Price Vs Predicted Price')\n",
    "plt.xlabel('Number of values')\n",
    "plt.ylabel('Gold Price')\n",
    "plt.legend()\n",
    "plt.show()"
   ]
  },
  {
   "cell_type": "code",
   "execution_count": null,
   "id": "b6b2a30f",
   "metadata": {},
   "outputs": [],
   "source": []
  }
 ],
 "metadata": {
  "kernelspec": {
   "display_name": "Python 3",
   "language": "python",
   "name": "python3"
  },
  "language_info": {
   "codemirror_mode": {
    "name": "ipython",
    "version": 3
   },
   "file_extension": ".py",
   "mimetype": "text/x-python",
   "name": "python",
   "nbconvert_exporter": "python",
   "pygments_lexer": "ipython3",
   "version": "3.8.8"
  }
 },
 "nbformat": 4,
 "nbformat_minor": 5
}
